{
 "cells": [
  {
   "cell_type": "code",
   "execution_count": 7,
   "metadata": {},
   "outputs": [],
   "source": [
    "import sys, os, os.path\n",
    "import librosa\n",
    "from scipy.io import savemat\n",
    "import pickle as cPickle\n",
    "import numpy as np\n",
    "import glob\n",
    "import time\n",
    "import h5py\n",
    "import numpy as np\n",
    "import json\n",
    "import os\n",
    "import zipfile\n",
    "import wget\n",
    "import csv"
   ]
  },
  {
   "cell_type": "code",
   "execution_count": 8,
   "metadata": {},
   "outputs": [],
   "source": [
    "TRAIN_DIR1 = '/local/slurm-5587015/local/audio/balance_wav/*.wav'\n",
    "TRAIN_DIR2 = '/local/slurm-5587015/local/audio/unbalanced_wav/*.wav'\n",
    "VALID_DIR = '/local/slurm-5587015/local/audio/valid_wav/*.wav'\n",
    "EVAL_DIR = '/local/slurm-5587015/local/audio/eval_wav/*.wav'"
   ]
  },
  {
   "cell_type": "code",
   "execution_count": 11,
   "metadata": {},
   "outputs": [],
   "source": [
    "list_path = \"/jet/home/billyli/data_folder/DayLongAudio/lists/\"\n",
    "meta_path = \"/jet/home/billyli/data_folder/DayLongAudio/meta/\"\n",
    "base_path = \"/local/slurm-5587015/local/audio\""
   ]
  },
  {
   "cell_type": "code",
   "execution_count": 14,
   "metadata": {},
   "outputs": [
    {
     "name": "stdout",
     "output_type": "stream",
     "text": [
      "Column names are index, mid, display_name\n",
      "{'/m/09x0r': ['0', 'Speech'], '/m/05zppz': ['1', 'Male speech, man speaking'], '/m/02zsn': ['2', 'Female speech, woman speaking'], '/m/0ytgt': ['3', 'Child speech, kid speaking'], '/m/01h8n0': ['4', 'Conversation'], '/m/02qldy': ['5', 'Narration, monologue'], '/m/0261r1': ['6', 'Babbling'], '/m/0brhx': ['7', 'Speech synthesizer'], '/m/07p6fty': ['8', 'Shout'], '/m/07q4ntr': ['9', 'Bellow'], '/m/07rwj3x': ['10', 'Whoop'], '/m/07sr1lc': ['11', 'Yell'], '/m/04gy_2': ['12', 'Battle cry'], '/t/dd00135': ['13', 'Children shouting'], '/m/03qc9zr': ['14', 'Screaming'], '/m/02rtxlg': ['15', 'Whispering'], '/m/01j3sz': ['16', 'Laughter'], '/t/dd00001': ['17', 'Baby laughter'], '/m/07r660_': ['18', 'Giggle'], '/m/07s04w4': ['19', 'Snicker'], '/m/07sq110': ['20', 'Belly laugh'], '/m/07rgt08': ['21', 'Chuckle, chortle'], '/m/0463cq4': ['22', 'Crying, sobbing'], '/t/dd00002': ['23', 'Baby cry, infant cry'], '/m/07qz6j3': ['24', 'Whimper'], '/m/07qw_06': ['25', 'Wail, moan'], '/m/07plz5l': ['26', 'Sigh'], '/m/015lz1': ['27', 'Singing'], '/m/0l14jd': ['28', 'Choir'], '/m/01swy6': ['29', 'Yodeling'], '/m/02bk07': ['30', 'Chant'], '/m/01c194': ['31', 'Mantra'], '/t/dd00003': ['32', 'Male singing'], '/t/dd00004': ['33', 'Female singing'], '/t/dd00005': ['34', 'Child singing'], '/t/dd00006': ['35', 'Synthetic singing'], '/m/06bxc': ['36', 'Rapping'], '/m/02fxyj': ['37', 'Humming'], '/m/07s2xch': ['38', 'Groan'], '/m/07r4k75': ['39', 'Grunt'], '/m/01w250': ['40', 'Whistling'], '/m/0lyf6': ['41', 'Breathing'], '/m/07mzm6': ['42', 'Wheeze'], '/m/01d3sd': ['43', 'Snoring'], '/m/07s0dtb': ['44', 'Gasp'], '/m/07pyy8b': ['45', 'Pant'], '/m/07q0yl5': ['46', 'Snort'], '/m/01b_21': ['47', 'Cough'], '/m/0dl9sf8': ['48', 'Throat clearing'], '/m/01hsr_': ['49', 'Sneeze'], '/m/07ppn3j': ['50', 'Sniff'], '/m/06h7j': ['51', 'Run'], '/m/07qv_x_': ['52', 'Shuffle'], '/m/07pbtc8': ['53', 'Walk, footsteps'], '/m/03cczk': ['54', 'Chewing, mastication'], '/m/07pdhp0': ['55', 'Biting'], '/m/0939n_': ['56', 'Gargling'], '/m/01g90h': ['57', 'Stomach rumble'], '/m/03q5_w': ['58', 'Burping, eructation'], '/m/02p3nc': ['59', 'Hiccup'], '/m/02_nn': ['60', 'Fart'], '/m/0k65p': ['61', 'Hands'], '/m/025_jnm': ['62', 'Finger snapping'], '/m/0l15bq': ['63', 'Clapping'], '/m/01jg02': ['64', 'Heart sounds, heartbeat'], '/m/01jg1z': ['65', 'Heart murmur'], '/m/053hz1': ['66', 'Cheering'], '/m/028ght': ['67', 'Applause'], '/m/07rkbfh': ['68', 'Chatter'], '/m/03qtwd': ['69', 'Crowd'], '/m/07qfr4h': ['70', 'Hubbub, speech noise, speech babble'], '/t/dd00013': ['71', 'Children playing'], '/m/0jbk': ['72', 'Animal'], '/m/068hy': ['73', 'Domestic animals, pets'], '/m/0bt9lr': ['74', 'Dog'], '/m/05tny_': ['75', 'Bark'], '/m/07r_k2n': ['76', 'Yip'], '/m/07qf0zm': ['77', 'Howl'], '/m/07rc7d9': ['78', 'Bow-wow'], '/m/0ghcn6': ['79', 'Growling'], '/t/dd00136': ['80', 'Whimper (dog)'], '/m/01yrx': ['81', 'Cat'], '/m/02yds9': ['82', 'Purr'], '/m/07qrkrw': ['83', 'Meow'], '/m/07rjwbb': ['84', 'Hiss'], '/m/07r81j2': ['85', 'Caterwaul'], '/m/0ch8v': ['86', 'Livestock, farm animals, working animals'], '/m/03k3r': ['87', 'Horse'], '/m/07rv9rh': ['88', 'Clip-clop'], '/m/07q5rw0': ['89', 'Neigh, whinny'], '/m/01xq0k1': ['90', 'Cattle, bovinae'], '/m/07rpkh9': ['91', 'Moo'], '/m/0239kh': ['92', 'Cowbell'], '/m/068zj': ['93', 'Pig'], '/t/dd00018': ['94', 'Oink'], '/m/03fwl': ['95', 'Goat'], '/m/07q0h5t': ['96', 'Bleat'], '/m/07bgp': ['97', 'Sheep'], '/m/025rv6n': ['98', 'Fowl'], '/m/09b5t': ['99', 'Chicken, rooster'], '/m/07st89h': ['100', 'Cluck'], '/m/07qn5dc': ['101', 'Crowing, cock-a-doodle-doo'], '/m/01rd7k': ['102', 'Turkey'], '/m/07svc2k': ['103', 'Gobble'], '/m/09ddx': ['104', 'Duck'], '/m/07qdb04': ['105', 'Quack'], '/m/0dbvp': ['106', 'Goose'], '/m/07qwf61': ['107', 'Honk'], '/m/01280g': ['108', 'Wild animals'], '/m/0cdnk': ['109', 'Roaring cats (lions, tigers)'], '/m/04cvmfc': ['110', 'Roar'], '/m/015p6': ['111', 'Bird'], '/m/020bb7': ['112', 'Bird vocalization, bird call, bird song'], '/m/07pggtn': ['113', 'Chirp, tweet'], '/m/07sx8x_': ['114', 'Squawk'], '/m/0h0rv': ['115', 'Pigeon, dove'], '/m/07r_25d': ['116', 'Coo'], '/m/04s8yn': ['117', 'Crow'], '/m/07r5c2p': ['118', 'Caw'], '/m/09d5_': ['119', 'Owl'], '/m/07r_80w': ['120', 'Hoot'], '/m/05_wcq': ['121', 'Bird flight, flapping wings'], '/m/01z5f': ['122', 'Canidae, dogs, wolves'], '/m/06hps': ['123', 'Rodents, rats, mice'], '/m/04rmv': ['124', 'Mouse'], '/m/07r4gkf': ['125', 'Patter'], '/m/03vt0': ['126', 'Insect'], '/m/09xqv': ['127', 'Cricket'], '/m/09f96': ['128', 'Mosquito'], '/m/0h2mp': ['129', 'Fly, housefly'], '/m/07pjwq1': ['130', 'Buzz'], '/m/01h3n': ['131', 'Bee, wasp, etc.'], '/m/09ld4': ['132', 'Frog'], '/m/07st88b': ['133', 'Croak'], '/m/078jl': ['134', 'Snake'], '/m/07qn4z3': ['135', 'Rattle'], '/m/032n05': ['136', 'Whale vocalization'], '/m/04rlf': ['137', 'Music'], '/m/04szw': ['138', 'Musical instrument'], '/m/0fx80y': ['139', 'Plucked string instrument'], '/m/0342h': ['140', 'Guitar'], '/m/02sgy': ['141', 'Electric guitar'], '/m/018vs': ['142', 'Bass guitar'], '/m/042v_gx': ['143', 'Acoustic guitar'], '/m/06w87': ['144', 'Steel guitar, slide guitar'], '/m/01glhc': ['145', 'Tapping (guitar technique)'], '/m/07s0s5r': ['146', 'Strum'], '/m/018j2': ['147', 'Banjo'], '/m/0jtg0': ['148', 'Sitar'], '/m/04rzd': ['149', 'Mandolin'], '/m/01bns_': ['150', 'Zither'], '/m/07xzm': ['151', 'Ukulele'], '/m/05148p4': ['152', 'Keyboard (musical)'], '/m/05r5c': ['153', 'Piano'], '/m/01s0ps': ['154', 'Electric piano'], '/m/013y1f': ['155', 'Organ'], '/m/03xq_f': ['156', 'Electronic organ'], '/m/03gvt': ['157', 'Hammond organ'], '/m/0l14qv': ['158', 'Synthesizer'], '/m/01v1d8': ['159', 'Sampler'], '/m/03q5t': ['160', 'Harpsichord'], '/m/0l14md': ['161', 'Percussion'], '/m/02hnl': ['162', 'Drum kit'], '/m/0cfdd': ['163', 'Drum machine'], '/m/026t6': ['164', 'Drum'], '/m/06rvn': ['165', 'Snare drum'], '/m/03t3fj': ['166', 'Rimshot'], '/m/02k_mr': ['167', 'Drum roll'], '/m/0bm02': ['168', 'Bass drum'], '/m/011k_j': ['169', 'Timpani'], '/m/01p970': ['170', 'Tabla'], '/m/01qbl': ['171', 'Cymbal'], '/m/03qtq': ['172', 'Hi-hat'], '/m/01sm1g': ['173', 'Wood block'], '/m/07brj': ['174', 'Tambourine'], '/m/05r5wn': ['175', 'Rattle (instrument)'], '/m/0xzly': ['176', 'Maraca'], '/m/0mbct': ['177', 'Gong'], '/m/016622': ['178', 'Tubular bells'], '/m/0j45pbj': ['179', 'Mallet percussion'], '/m/0dwsp': ['180', 'Marimba, xylophone'], '/m/0dwtp': ['181', 'Glockenspiel'], '/m/0dwt5': ['182', 'Vibraphone'], '/m/0l156b': ['183', 'Steelpan'], '/m/05pd6': ['184', 'Orchestra'], '/m/01kcd': ['185', 'Brass instrument'], '/m/0319l': ['186', 'French horn'], '/m/07gql': ['187', 'Trumpet'], '/m/07c6l': ['188', 'Trombone'], '/m/0l14_3': ['189', 'Bowed string instrument'], '/m/02qmj0d': ['190', 'String section'], '/m/07y_7': ['191', 'Violin, fiddle'], '/m/0d8_n': ['192', 'Pizzicato'], '/m/01xqw': ['193', 'Cello'], '/m/02fsn': ['194', 'Double bass'], '/m/085jw': ['195', 'Wind instrument, woodwind instrument'], '/m/0l14j_': ['196', 'Flute'], '/m/06ncr': ['197', 'Saxophone'], '/m/01wy6': ['198', 'Clarinet'], '/m/03m5k': ['199', 'Harp'], '/m/0395lw': ['200', 'Bell'], '/m/03w41f': ['201', 'Church bell'], '/m/027m70_': ['202', 'Jingle bell'], '/m/0gy1t2s': ['203', 'Bicycle bell'], '/m/07n_g': ['204', 'Tuning fork'], '/m/0f8s22': ['205', 'Chime'], '/m/026fgl': ['206', 'Wind chime'], '/m/0150b9': ['207', 'Change ringing (campanology)'], '/m/03qjg': ['208', 'Harmonica'], '/m/0mkg': ['209', 'Accordion'], '/m/0192l': ['210', 'Bagpipes'], '/m/02bxd': ['211', 'Didgeridoo'], '/m/0l14l2': ['212', 'Shofar'], '/m/07kc_': ['213', 'Theremin'], '/m/0l14t7': ['214', 'Singing bowl'], '/m/01hgjl': ['215', 'Scratching (performance technique)'], '/m/064t9': ['216', 'Pop music'], '/m/0glt670': ['217', 'Hip hop music'], '/m/02cz_7': ['218', 'Beatboxing'], '/m/06by7': ['219', 'Rock music'], '/m/03lty': ['220', 'Heavy metal'], '/m/05r6t': ['221', 'Punk rock'], '/m/0dls3': ['222', 'Grunge'], '/m/0dl5d': ['223', 'Progressive rock'], '/m/07sbbz2': ['224', 'Rock and roll'], '/m/05w3f': ['225', 'Psychedelic rock'], '/m/06j6l': ['226', 'Rhythm and blues'], '/m/0gywn': ['227', 'Soul music'], '/m/06cqb': ['228', 'Reggae'], '/m/01lyv': ['229', 'Country'], '/m/015y_n': ['230', 'Swing music'], '/m/0gg8l': ['231', 'Bluegrass'], '/m/02x8m': ['232', 'Funk'], '/m/02w4v': ['233', 'Folk music'], '/m/06j64v': ['234', 'Middle Eastern music'], '/m/03_d0': ['235', 'Jazz'], '/m/026z9': ['236', 'Disco'], '/m/0ggq0m': ['237', 'Classical music'], '/m/05lls': ['238', 'Opera'], '/m/02lkt': ['239', 'Electronic music'], '/m/03mb9': ['240', 'House music'], '/m/07gxw': ['241', 'Techno'], '/m/07s72n': ['242', 'Dubstep'], '/m/0283d': ['243', 'Drum and bass'], '/m/0m0jc': ['244', 'Electronica'], '/m/08cyft': ['245', 'Electronic dance music'], '/m/0fd3y': ['246', 'Ambient music'], '/m/07lnk': ['247', 'Trance music'], '/m/0g293': ['248', 'Music of Latin America'], '/m/0ln16': ['249', 'Salsa music'], '/m/0326g': ['250', 'Flamenco'], '/m/0155w': ['251', 'Blues'], '/m/05fw6t': ['252', 'Music for children'], '/m/02v2lh': ['253', 'New-age music'], '/m/0y4f8': ['254', 'Vocal music'], '/m/0z9c': ['255', 'A capella'], '/m/0164x2': ['256', 'Music of Africa'], '/m/0145m': ['257', 'Afrobeat'], '/m/02mscn': ['258', 'Christian music'], '/m/016cjb': ['259', 'Gospel music'], '/m/028sqc': ['260', 'Music of Asia'], '/m/015vgc': ['261', 'Carnatic music'], '/m/0dq0md': ['262', 'Music of Bollywood'], '/m/06rqw': ['263', 'Ska'], '/m/02p0sh1': ['264', 'Traditional music'], '/m/05rwpb': ['265', 'Independent music'], '/m/074ft': ['266', 'Song'], '/m/025td0t': ['267', 'Background music'], '/m/02cjck': ['268', 'Theme music'], '/m/03r5q_': ['269', 'Jingle (music)'], '/m/0l14gg': ['270', 'Soundtrack music'], '/m/07pkxdp': ['271', 'Lullaby'], '/m/01z7dr': ['272', 'Video game music'], '/m/0140xf': ['273', 'Christmas music'], '/m/0ggx5q': ['274', 'Dance music'], '/m/04wptg': ['275', 'Wedding music'], '/t/dd00031': ['276', 'Happy music'], '/t/dd00032': ['277', 'Funny music'], '/t/dd00033': ['278', 'Sad music'], '/t/dd00034': ['279', 'Tender music'], '/t/dd00035': ['280', 'Exciting music'], '/t/dd00036': ['281', 'Angry music'], '/t/dd00037': ['282', 'Scary music'], '/m/03m9d0z': ['283', 'Wind'], '/m/09t49': ['284', 'Rustling leaves'], '/t/dd00092': ['285', 'Wind noise (microphone)'], '/m/0jb2l': ['286', 'Thunderstorm'], '/m/0ngt1': ['287', 'Thunder'], '/m/0838f': ['288', 'Water'], '/m/06mb1': ['289', 'Rain'], '/m/07r10fb': ['290', 'Raindrop'], '/t/dd00038': ['291', 'Rain on surface'], '/m/0j6m2': ['292', 'Stream'], '/m/0j2kx': ['293', 'Waterfall'], '/m/05kq4': ['294', 'Ocean'], '/m/034srq': ['295', 'Waves, surf'], '/m/06wzb': ['296', 'Steam'], '/m/07swgks': ['297', 'Gurgling'], '/m/02_41': ['298', 'Fire'], '/m/07pzfmf': ['299', 'Crackle'], '/m/07yv9': ['300', 'Vehicle'], '/m/019jd': ['301', 'Boat, Water vehicle'], '/m/0hsrw': ['302', 'Sailboat, sailing ship'], '/m/056ks2': ['303', 'Rowboat, canoe, kayak'], '/m/02rlv9': ['304', 'Motorboat, speedboat'], '/m/06q74': ['305', 'Ship'], '/m/012f08': ['306', 'Motor vehicle (road)'], '/m/0k4j': ['307', 'Car'], '/m/0912c9': ['308', 'Vehicle horn, car horn, honking'], '/m/07qv_d5': ['309', 'Toot'], '/m/02mfyn': ['310', 'Car alarm'], '/m/04gxbd': ['311', 'Power windows, electric windows'], '/m/07rknqz': ['312', 'Skidding'], '/m/0h9mv': ['313', 'Tire squeal'], '/t/dd00134': ['314', 'Car passing by'], '/m/0ltv': ['315', 'Race car, auto racing'], '/m/07r04': ['316', 'Truck'], '/m/0gvgw0': ['317', 'Air brake'], '/m/05x_td': ['318', 'Air horn, truck horn'], '/m/02rhddq': ['319', 'Reversing beeps'], '/m/03cl9h': ['320', 'Ice cream truck, ice cream van'], '/m/01bjv': ['321', 'Bus'], '/m/03j1ly': ['322', 'Emergency vehicle'], '/m/04qvtq': ['323', 'Police car (siren)'], '/m/012n7d': ['324', 'Ambulance (siren)'], '/m/012ndj': ['325', 'Fire engine, fire truck (siren)'], '/m/04_sv': ['326', 'Motorcycle'], '/m/0btp2': ['327', 'Traffic noise, roadway noise'], '/m/06d_3': ['328', 'Rail transport'], '/m/07jdr': ['329', 'Train'], '/m/04zmvq': ['330', 'Train whistle'], '/m/0284vy3': ['331', 'Train horn'], '/m/01g50p': ['332', 'Railroad car, train wagon'], '/t/dd00048': ['333', 'Train wheels squealing'], '/m/0195fx': ['334', 'Subway, metro, underground'], '/m/0k5j': ['335', 'Aircraft'], '/m/014yck': ['336', 'Aircraft engine'], '/m/04229': ['337', 'Jet engine'], '/m/02l6bg': ['338', 'Propeller, airscrew'], '/m/09ct_': ['339', 'Helicopter'], '/m/0cmf2': ['340', 'Fixed-wing aircraft, airplane'], '/m/0199g': ['341', 'Bicycle'], '/m/06_fw': ['342', 'Skateboard'], '/m/02mk9': ['343', 'Engine'], '/t/dd00065': ['344', 'Light engine (high frequency)'], '/m/08j51y': ['345', \"Dental drill, dentist's drill\"], '/m/01yg9g': ['346', 'Lawn mower'], '/m/01j4z9': ['347', 'Chainsaw'], '/t/dd00066': ['348', 'Medium engine (mid frequency)'], '/t/dd00067': ['349', 'Heavy engine (low frequency)'], '/m/01h82_': ['350', 'Engine knocking'], '/t/dd00130': ['351', 'Engine starting'], '/m/07pb8fc': ['352', 'Idling'], '/m/07q2z82': ['353', 'Accelerating, revving, vroom'], '/m/02dgv': ['354', 'Door'], '/m/03wwcy': ['355', 'Doorbell'], '/m/07r67yg': ['356', 'Ding-dong'], '/m/02y_763': ['357', 'Sliding door'], '/m/07rjzl8': ['358', 'Slam'], '/m/07r4wb8': ['359', 'Knock'], '/m/07qcpgn': ['360', 'Tap'], '/m/07q6cd_': ['361', 'Squeak'], '/m/0642b4': ['362', 'Cupboard open or close'], '/m/0fqfqc': ['363', 'Drawer open or close'], '/m/04brg2': ['364', 'Dishes, pots, and pans'], '/m/023pjk': ['365', 'Cutlery, silverware'], '/m/07pn_8q': ['366', 'Chopping (food)'], '/m/0dxrf': ['367', 'Frying (food)'], '/m/0fx9l': ['368', 'Microwave oven'], '/m/02pjr4': ['369', 'Blender'], '/m/02jz0l': ['370', 'Water tap, faucet'], '/m/0130jx': ['371', 'Sink (filling or washing)'], '/m/03dnzn': ['372', 'Bathtub (filling or washing)'], '/m/03wvsk': ['373', 'Hair dryer'], '/m/01jt3m': ['374', 'Toilet flush'], '/m/012xff': ['375', 'Toothbrush'], '/m/04fgwm': ['376', 'Electric toothbrush'], '/m/0d31p': ['377', 'Vacuum cleaner'], '/m/01s0vc': ['378', 'Zipper (clothing)'], '/m/03v3yw': ['379', 'Keys jangling'], '/m/0242l': ['380', 'Coin (dropping)'], '/m/01lsmm': ['381', 'Scissors'], '/m/02g901': ['382', 'Electric shaver, electric razor'], '/m/05rj2': ['383', 'Shuffling cards'], '/m/0316dw': ['384', 'Typing'], '/m/0c2wf': ['385', 'Typewriter'], '/m/01m2v': ['386', 'Computer keyboard'], '/m/081rb': ['387', 'Writing'], '/m/07pp_mv': ['388', 'Alarm'], '/m/07cx4': ['389', 'Telephone'], '/m/07pp8cl': ['390', 'Telephone bell ringing'], '/m/01hnzm': ['391', 'Ringtone'], '/m/02c8p': ['392', 'Telephone dialing, DTMF'], '/m/015jpf': ['393', 'Dial tone'], '/m/01z47d': ['394', 'Busy signal'], '/m/046dlr': ['395', 'Alarm clock'], '/m/03kmc9': ['396', 'Siren'], '/m/0dgbq': ['397', 'Civil defense siren'], '/m/030rvx': ['398', 'Buzzer'], '/m/01y3hg': ['399', 'Smoke detector, smoke alarm'], '/m/0c3f7m': ['400', 'Fire alarm'], '/m/04fq5q': ['401', 'Foghorn'], '/m/0l156k': ['402', 'Whistle'], '/m/06hck5': ['403', 'Steam whistle'], '/t/dd00077': ['404', 'Mechanisms'], '/m/02bm9n': ['405', 'Ratchet, pawl'], '/m/01x3z': ['406', 'Clock'], '/m/07qjznt': ['407', 'Tick'], '/m/07qjznl': ['408', 'Tick-tock'], '/m/0l7xg': ['409', 'Gears'], '/m/05zc1': ['410', 'Pulleys'], '/m/0llzx': ['411', 'Sewing machine'], '/m/02x984l': ['412', 'Mechanical fan'], '/m/025wky1': ['413', 'Air conditioning'], '/m/024dl': ['414', 'Cash register'], '/m/01m4t': ['415', 'Printer'], '/m/0dv5r': ['416', 'Camera'], '/m/07bjf': ['417', 'Single-lens reflex camera'], '/m/07k1x': ['418', 'Tools'], '/m/03l9g': ['419', 'Hammer'], '/m/03p19w': ['420', 'Jackhammer'], '/m/01b82r': ['421', 'Sawing'], '/m/02p01q': ['422', 'Filing (rasp)'], '/m/023vsd': ['423', 'Sanding'], '/m/0_ksk': ['424', 'Power tool'], '/m/01d380': ['425', 'Drill'], '/m/014zdl': ['426', 'Explosion'], '/m/032s66': ['427', 'Gunshot, gunfire'], '/m/04zjc': ['428', 'Machine gun'], '/m/02z32qm': ['429', 'Fusillade'], '/m/0_1c': ['430', 'Artillery fire'], '/m/073cg4': ['431', 'Cap gun'], '/m/0g6b5': ['432', 'Fireworks'], '/g/122z_qxw': ['433', 'Firecracker'], '/m/07qsvvw': ['434', 'Burst, pop'], '/m/07pxg6y': ['435', 'Eruption'], '/m/07qqyl4': ['436', 'Boom'], '/m/083vt': ['437', 'Wood'], '/m/07pczhz': ['438', 'Chop'], '/m/07pl1bw': ['439', 'Splinter'], '/m/07qs1cx': ['440', 'Crack'], '/m/039jq': ['441', 'Glass'], '/m/07q7njn': ['442', 'Chink, clink'], '/m/07rn7sz': ['443', 'Shatter'], '/m/04k94': ['444', 'Liquid'], '/m/07rrlb6': ['445', 'Splash, splatter'], '/m/07p6mqd': ['446', 'Slosh'], '/m/07qlwh6': ['447', 'Squish'], '/m/07r5v4s': ['448', 'Drip'], '/m/07prgkl': ['449', 'Pour'], '/m/07pqc89': ['450', 'Trickle, dribble'], '/t/dd00088': ['451', 'Gush'], '/m/07p7b8y': ['452', 'Fill (with liquid)'], '/m/07qlf79': ['453', 'Spray'], '/m/07ptzwd': ['454', 'Pump (liquid)'], '/m/07ptfmf': ['455', 'Stir'], '/m/0dv3j': ['456', 'Boiling'], '/m/0790c': ['457', 'Sonar'], '/m/0dl83': ['458', 'Arrow'], '/m/07rqsjt': ['459', 'Whoosh, swoosh, swish'], '/m/07qnq_y': ['460', 'Thump, thud'], '/m/07rrh0c': ['461', 'Thunk'], '/m/0b_fwt': ['462', 'Electronic tuner'], '/m/02rr_': ['463', 'Effects unit'], '/m/07m2kt': ['464', 'Chorus effect'], '/m/018w8': ['465', 'Basketball bounce'], '/m/07pws3f': ['466', 'Bang'], '/m/07ryjzk': ['467', 'Slap, smack'], '/m/07rdhzs': ['468', 'Whack, thwack'], '/m/07pjjrj': ['469', 'Smash, crash'], '/m/07pc8lb': ['470', 'Breaking'], '/m/07pqn27': ['471', 'Bouncing'], '/m/07rbp7_': ['472', 'Whip'], '/m/07pyf11': ['473', 'Flap'], '/m/07qb_dv': ['474', 'Scratch'], '/m/07qv4k0': ['475', 'Scrape'], '/m/07pdjhy': ['476', 'Rub'], '/m/07s8j8t': ['477', 'Roll'], '/m/07plct2': ['478', 'Crushing'], '/t/dd00112': ['479', 'Crumpling, crinkling'], '/m/07qcx4z': ['480', 'Tearing'], '/m/02fs_r': ['481', 'Beep, bleep'], '/m/07qwdck': ['482', 'Ping'], '/m/07phxs1': ['483', 'Ding'], '/m/07rv4dm': ['484', 'Clang'], '/m/07s02z0': ['485', 'Squeal'], '/m/07qh7jl': ['486', 'Creak'], '/m/07qwyj0': ['487', 'Rustle'], '/m/07s34ls': ['488', 'Whir'], '/m/07qmpdm': ['489', 'Clatter'], '/m/07p9k1k': ['490', 'Sizzle'], '/m/07qc9xj': ['491', 'Clicking'], '/m/07rwm0c': ['492', 'Clickety-clack'], '/m/07phhsh': ['493', 'Rumble'], '/m/07qyrcz': ['494', 'Plop'], '/m/07qfgpx': ['495', 'Jingle, tinkle'], '/m/07rcgpl': ['496', 'Hum'], '/m/07p78v5': ['497', 'Zing'], '/t/dd00121': ['498', 'Boing'], '/m/07s12q4': ['499', 'Crunch'], '/m/028v0c': ['500', 'Silence'], '/m/01v_m0': ['501', 'Sine wave'], '/m/0b9m1': ['502', 'Harmonic'], '/m/0hdsk': ['503', 'Chirp tone'], '/m/0c1dj': ['504', 'Sound effect'], '/m/07pt_g0': ['505', 'Pulse'], '/t/dd00125': ['506', 'Inside, small room'], '/t/dd00126': ['507', 'Inside, large room or hall'], '/t/dd00127': ['508', 'Inside, public space'], '/t/dd00128': ['509', 'Outside, urban or manmade'], '/t/dd00129': ['510', 'Outside, rural or natural'], '/m/01b9nn': ['511', 'Reverberation'], '/m/01jnbd': ['512', 'Echo'], '/m/096m7z': ['513', 'Noise'], '/m/06_y0by': ['514', 'Environmental noise'], '/m/07rgkc5': ['515', 'Static'], '/m/06xkwv': ['516', 'Mains hum'], '/m/0g12c5': ['517', 'Distortion'], '/m/08p9q4': ['518', 'Sidetone'], '/m/07szfh9': ['519', 'Cacophony'], '/m/0chx_': ['520', 'White noise'], '/m/0cj0r': ['521', 'Pink noise'], '/m/07p_0gm': ['522', 'Throbbing'], '/m/01jwx6': ['523', 'Vibration'], '/m/07c52': ['524', 'Television'], '/m/06bz3': ['525', 'Radio'], '/m/07hvw1': ['526', 'Field recording']}\n"
     ]
    }
   ],
   "source": [
    "label_map = {}\n",
    "with open(os.path.join(meta_path, 'class_labels_indices.csv')) as csv_file:\n",
    "\n",
    "# label_set = np.loadtxt('./data/class_labels_indices.csv', delimiter=',', dtype='str')\n",
    "    csv_reader = csv.reader(csv_file, delimiter=',')\n",
    "    line_count = 0\n",
    "    for row in csv_reader:\n",
    "        if line_count == 0:\n",
    "            print(f'Column names are {\", \".join(row)}')\n",
    "            line_count += 1\n",
    "        else:\n",
    "#             print(f'\\t{row[0]}{row[1]} {row[2]}.')\n",
    "            label_map[row[1]] = [row[0],row[2]]\n",
    "            line_count += 1\n",
    "#     label_set = list(label_set)\n",
    "#     for i in range(1, len(label_set)):\n",
    "#         label_map[eval(label_set[i][2])] = label_set[i][0]\n",
    "print(label_map)"
   ]
  },
  {
   "cell_type": "code",
   "execution_count": 38,
   "metadata": {},
   "outputs": [
    {
     "data": {
      "text/plain": [
       "527"
      ]
     },
     "execution_count": 38,
     "metadata": {},
     "output_type": "execute_result"
    }
   ],
   "source": [
    "len(label_map)"
   ]
  },
  {
   "cell_type": "code",
   "execution_count": 41,
   "metadata": {},
   "outputs": [
    {
     "name": "stdout",
     "output_type": "stream",
     "text": [
      "Column names are # Segments csv created Sun Mar  5 10:54:31 2017\n",
      "Column names are # num_ytids=22160,  num_segs=22160,  num_unique_labels=527,  num_positive_labels=52882\n",
      "Column names are # YTID,  start_seconds,  end_seconds,  positive_labels\n",
      "balanced count: 21720, missing count: 443\n",
      "Finished AudioSet Preparation\n"
     ]
    }
   ],
   "source": [
    "bal_train_wav_list = []\n",
    "bal_train_dic_by_class ={}\n",
    "\n",
    "\n",
    "with open(os.path.join(list_path, 'balanced_train_segments.csv')) as bal_csv_file:\n",
    "    bal_csv_reader = csv.reader(bal_csv_file, delimiter=',')\n",
    "\n",
    "    bal_count = 0\n",
    "    missing_count = 0\n",
    "    for row in bal_csv_reader:\n",
    "        if bal_count <3:\n",
    "            print(f'Column names are {\", \".join(row)}')\n",
    "            bal_count += 1\n",
    "        else:\n",
    "            wav_path = os.path.join(base_path, 'balance_wav',row[0] +'.wav')\n",
    "            if os.path.exists(wav_path):\n",
    "                cur_bal_dict = {\"wav\": wav_path, \"labels\": eval(','.join(row[3:]))}\n",
    "                for label in row[3:]:\n",
    "                    label = label.replace('\"','').strip()\n",
    "                    if label not in bal_train_dic_by_class:\n",
    "                        bal_train_dic_by_class[label] = [wav_path]\n",
    "                        \n",
    "                    else: \n",
    "                        bal_train_dic_by_class[label].append(wav_path)\n",
    "# #             print(cur_bal_dict)\n",
    "#                 bal_train_wav_list.append(cur_bal_dict)\n",
    "                bal_count += 1\n",
    "\n",
    "            else:\n",
    "                missing_count+=1\n",
    "#                 print(\"missing training: \" + row[0])\n",
    "print(f'balanced count: {bal_count}, missing count: {missing_count}')\n",
    "# with open('./data/datafiles/audioset_bal_train_data' +'.json', 'w') as f:\n",
    "#     json.dump({'data': bal_train_wav_list}, f, indent=1)\n",
    "\n",
    "\n",
    "\n",
    "print('Finished AudioSet Preparation')"
   ]
  },
  {
   "cell_type": "code",
   "execution_count": 55,
   "metadata": {},
   "outputs": [
    {
     "name": "stdout",
     "output_type": "stream",
     "text": [
      "5624\n",
      "['0', 'Speech'] /local/slurm-5587015/local/audio/balance_wav/--PJHxphWEs.wav\n"
     ]
    },
    {
     "ename": "AttributeError",
     "evalue": "'_io.TextIOWrapper' object has no attribute 'shape'",
     "output_type": "error",
     "traceback": [
      "\u001b[0;31m---------------------------------------------------------------------------\u001b[0m",
      "\u001b[0;31mAttributeError\u001b[0m                            Traceback (most recent call last)",
      "\u001b[0;32m<ipython-input-55-a0bc260248d2>\u001b[0m in \u001b[0;36m<module>\u001b[0;34m\u001b[0m\n\u001b[1;32m      5\u001b[0m     \u001b[0;32mfor\u001b[0m \u001b[0mitem\u001b[0m \u001b[0;32min\u001b[0m \u001b[0mbal_train_dic_by_class\u001b[0m\u001b[0;34m[\u001b[0m\u001b[0mclass_id\u001b[0m\u001b[0;34m]\u001b[0m\u001b[0;34m[\u001b[0m\u001b[0;34m:\u001b[0m\u001b[0;36m3\u001b[0m\u001b[0;34m]\u001b[0m\u001b[0;34m:\u001b[0m\u001b[0;34m\u001b[0m\u001b[0;34m\u001b[0m\u001b[0m\n\u001b[1;32m      6\u001b[0m         \u001b[0mprint\u001b[0m\u001b[0;34m(\u001b[0m\u001b[0mlabel_map\u001b[0m\u001b[0;34m[\u001b[0m\u001b[0mclass_id\u001b[0m\u001b[0;34m]\u001b[0m\u001b[0;34m,\u001b[0m \u001b[0mitem\u001b[0m\u001b[0;34m)\u001b[0m\u001b[0;34m\u001b[0m\u001b[0;34m\u001b[0m\u001b[0m\n\u001b[0;32m----> 7\u001b[0;31m         \u001b[0mcorr\u001b[0m \u001b[0;34m=\u001b[0m \u001b[0mlibrosa\u001b[0m\u001b[0;34m.\u001b[0m\u001b[0mautocorrelate\u001b[0m\u001b[0;34m(\u001b[0m\u001b[0mopen\u001b[0m\u001b[0;34m(\u001b[0m\u001b[0mitem\u001b[0m\u001b[0;34m)\u001b[0m\u001b[0;34m,\u001b[0m \u001b[0mmax_size\u001b[0m\u001b[0;34m=\u001b[0m\u001b[0;36m10000\u001b[0m\u001b[0;34m)\u001b[0m\u001b[0;34m\u001b[0m\u001b[0;34m\u001b[0m\u001b[0m\n\u001b[0m\u001b[1;32m      8\u001b[0m         \u001b[0mprint\u001b[0m\u001b[0;34m(\u001b[0m\u001b[0mcorr\u001b[0m\u001b[0;34m)\u001b[0m\u001b[0;34m\u001b[0m\u001b[0;34m\u001b[0m\u001b[0m\n\u001b[1;32m      9\u001b[0m     \u001b[0mind\u001b[0m \u001b[0;34m+=\u001b[0m\u001b[0;36m1\u001b[0m\u001b[0;34m\u001b[0m\u001b[0;34m\u001b[0m\u001b[0m\n",
      "\u001b[0;32m~/anaconda3/lib/python3.8/site-packages/librosa/core/audio.py\u001b[0m in \u001b[0;36mautocorrelate\u001b[0;34m(y, max_size, axis)\u001b[0m\n\u001b[1;32m    788\u001b[0m         \u001b[0mmax_size\u001b[0m \u001b[0;34m=\u001b[0m \u001b[0my\u001b[0m\u001b[0;34m.\u001b[0m\u001b[0mshape\u001b[0m\u001b[0;34m[\u001b[0m\u001b[0maxis\u001b[0m\u001b[0;34m]\u001b[0m\u001b[0;34m\u001b[0m\u001b[0;34m\u001b[0m\u001b[0m\n\u001b[1;32m    789\u001b[0m \u001b[0;34m\u001b[0m\u001b[0m\n\u001b[0;32m--> 790\u001b[0;31m     \u001b[0mmax_size\u001b[0m \u001b[0;34m=\u001b[0m \u001b[0mint\u001b[0m\u001b[0;34m(\u001b[0m\u001b[0mmin\u001b[0m\u001b[0;34m(\u001b[0m\u001b[0mmax_size\u001b[0m\u001b[0;34m,\u001b[0m \u001b[0my\u001b[0m\u001b[0;34m.\u001b[0m\u001b[0mshape\u001b[0m\u001b[0;34m[\u001b[0m\u001b[0maxis\u001b[0m\u001b[0;34m]\u001b[0m\u001b[0;34m)\u001b[0m\u001b[0;34m)\u001b[0m\u001b[0;34m\u001b[0m\u001b[0;34m\u001b[0m\u001b[0m\n\u001b[0m\u001b[1;32m    791\u001b[0m \u001b[0;34m\u001b[0m\u001b[0m\n\u001b[1;32m    792\u001b[0m     \u001b[0;31m# Compute the power spectrum along the chosen axis\u001b[0m\u001b[0;34m\u001b[0m\u001b[0;34m\u001b[0m\u001b[0;34m\u001b[0m\u001b[0m\n",
      "\u001b[0;31mAttributeError\u001b[0m: '_io.TextIOWrapper' object has no attribute 'shape'"
     ]
    }
   ],
   "source": [
    "# print(bal_train_dic_by_class['/t/dd00121'])\n",
    "ind = 0\n",
    "for class_id in bal_train_dic_by_class:\n",
    "    print(len(bal_train_dic_by_class[class_id]))\n",
    "    for item in bal_train_dic_by_class[class_id][:3]:\n",
    "        print(label_map[class_id], item)\n",
    "        corr = librosa.autocorrelate(open(item), max_size=10000)\n",
    "        print(corr)\n",
    "    ind +=1\n",
    "print(ind)"
   ]
  },
  {
   "cell_type": "code",
   "execution_count": 56,
   "metadata": {},
   "outputs": [],
   "source": [
    "def extract(wav):\n",
    "    # Takes a waveform (length 160,000, sampling rate 16,000) and extracts filterbank features (size 400 * 64)\n",
    "    # If the input is multiple waveforms (i.e. size n * 160,000), extract feature for each waveform (i.e. output size n * 400 * 64)\n",
    "    if wav.ndim > 1:\n",
    "        return numpy.stack([extract(w) for w in wav])\n",
    "    spec = librosa.core.stft(wav, n_fft = 4096,\n",
    "                             hop_length = 400, win_length = 1024,\n",
    "                             window = 'hann', center = True, pad_mode = 'constant')\n",
    "    mel = librosa.feature.melspectrogram(S = numpy.abs(spec), sr = 16000, n_mels = 64, fmax = 8000)\n",
    "    logmel = librosa.core.power_to_db(mel[:, :400])\n",
    "    return logmel.T.astype('float32')"
   ]
  },
  {
   "cell_type": "code",
   "execution_count": 5,
   "metadata": {},
   "outputs": [],
   "source": [
    "hf_audio_train_balanced = h5py.File('/local/slurm-5532397/local/audio_train_balanced.h5', 'w') \n",
    "audio_path_balanced = glob.glob(TRAIN_DIR1)\n",
    "for path in audio_path_balanced:\n",
    "    hash_id = path.split('/')[-1].split('.')[0]\n",
    "    wav, _ = librosa.core.load(path, sr = 16000, dtype = \"float32\")\n",
    "    feature = extract(wav)\n",
    "    item_data = hf_audio_train_balanced.create_group(str(hash_id))\n",
    "    item_data.create_dataset('audio', data=feature)"
   ]
  },
  {
   "cell_type": "code",
   "execution_count": null,
   "metadata": {},
   "outputs": [],
   "source": [
    "hf_audio_train_unbalanced = h5py.File('/local/slurm-5532397/local/audio_train_unbalanced.h5', 'w') \n",
    "audio_path_unbalanced = glob.glob(TRAIN_DIR2)\n",
    "for path in audio_path_unbalanced:\n",
    "    hash_id = path.split('/')[-1].split('.')[0]\n",
    "    wav, _ = librosa.core.load(path, sr = 16000, dtype = \"float32\")\n",
    "    feature = extract(wav)\n",
    "    item_data = hf_audio_train_unbalanced.create_group(str(hash_id))\n",
    "    item_data.create_dataset('audio', data=feature)"
   ]
  },
  {
   "cell_type": "code",
   "execution_count": null,
   "metadata": {},
   "outputs": [],
   "source": [
    "hf_audio_valid = h5py.File('/local/slurm-5532397/local/audio_valid.h5', 'w') \n",
    "audio_path_valid = glob.glob(VALID_DIR)\n",
    "for path in audio_path_valid:\n",
    "    hash_id = path.split('/')[-1].split('.')[0]\n",
    "    wav, _ = librosa.core.load(path, sr = 16000, dtype = \"float32\")\n",
    "    feature = extract(wav)\n",
    "    item_data = hf_audio_valid.create_group(str(hash_id))\n",
    "    item_data.create_dataset('audio', data=feature)"
   ]
  },
  {
   "cell_type": "code",
   "execution_count": null,
   "metadata": {},
   "outputs": [],
   "source": [
    "hf_audio_eval = h5py.File('/local/slurm-5532397/local/audio_eval.h5', 'w') \n",
    "audio_path_eval = glob.glob(EVAL_DIR)\n",
    "for path in audio_path_eval:\n",
    "    hash_id = path.split('/')[-1].split('.')[0]\n",
    "    wav, _ = librosa.core.load(path, sr = 16000, dtype = \"float32\")\n",
    "    feature = extract(wav)\n",
    "    item_data = hf_audio_eval.create_group(str(hash_id))\n",
    "    item_data.create_dataset('audio', data=feature)"
   ]
  },
  {
   "cell_type": "code",
   "execution_count": null,
   "metadata": {},
   "outputs": [],
   "source": [
    "'haha'"
   ]
  },
  {
   "cell_type": "code",
   "execution_count": null,
   "metadata": {},
   "outputs": [],
   "source": []
  }
 ],
 "metadata": {
  "kernelspec": {
   "display_name": "Python 3",
   "language": "python",
   "name": "python3"
  },
  "language_info": {
   "codemirror_mode": {
    "name": "ipython",
    "version": 3
   },
   "file_extension": ".py",
   "mimetype": "text/x-python",
   "name": "python",
   "nbconvert_exporter": "python",
   "pygments_lexer": "ipython3",
   "version": "3.8.5"
  }
 },
 "nbformat": 4,
 "nbformat_minor": 4
}
